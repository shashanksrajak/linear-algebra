{
 "cells": [
  {
   "cell_type": "markdown",
   "metadata": {},
   "source": [
    "# Solving System of Linear Equations with NumPy\n",
    "NumPy package can be used to solve system of linear equations in Linear Algebra."
   ]
  },
  {
   "cell_type": "code",
   "execution_count": 1,
   "metadata": {},
   "outputs": [],
   "source": [
    "import numpy as np"
   ]
  },
  {
   "cell_type": "markdown",
   "metadata": {},
   "source": [
    "## np.linalg\n",
    "\n",
    "Lets solve this system of linear equation\n",
    "\n",
    "$$ -x_1 + 3x_2 = 7 \\\\\n",
    " 3x_1 + 2x_2 = 1 $$\n",
    "\n",
    " We will create a matrix A with coefficients of $x_1$ and $x_2$ and a 1D array of constants on RHS."
   ]
  },
  {
   "cell_type": "code",
   "execution_count": 6,
   "metadata": {},
   "outputs": [
    {
     "name": "stdout",
     "output_type": "stream",
     "text": [
      "The solution for system of linear equation described above is [-1.  2.]\n"
     ]
    }
   ],
   "source": [
    "A = np.array([[-1, 3], [3, 2]])\n",
    "b = np.array([7, 1])\n",
    "\n",
    "x = np.linalg.solve(A, b)\n",
    "\n",
    "print(f\"The solution for system of linear equation described above is {x}\")"
   ]
  },
  {
   "cell_type": "markdown",
   "metadata": {},
   "source": [
    "# Calculating determinant of a matrix\n",
    "Given that a matrix is a square matrix, we can find its determinant, which in turn helps us to find out if the given system of linear equations corresponding to this matrix has any solution or not."
   ]
  },
  {
   "cell_type": "code",
   "execution_count": 7,
   "metadata": {},
   "outputs": [
    {
     "name": "stdout",
     "output_type": "stream",
     "text": [
      "The determinant of matrix A is -11.00\n"
     ]
    }
   ],
   "source": [
    "det_A = np.linalg.det(A)\n",
    "print(f\"The determinant of matrix A is {det_A:.2f}\")"
   ]
  }
 ],
 "metadata": {
  "kernelspec": {
   "display_name": "dsai",
   "language": "python",
   "name": "python3"
  },
  "language_info": {
   "codemirror_mode": {
    "name": "ipython",
    "version": 3
   },
   "file_extension": ".py",
   "mimetype": "text/x-python",
   "name": "python",
   "nbconvert_exporter": "python",
   "pygments_lexer": "ipython3",
   "version": "3.13.1"
  }
 },
 "nbformat": 4,
 "nbformat_minor": 2
}
