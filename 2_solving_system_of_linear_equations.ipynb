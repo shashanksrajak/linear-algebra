{
 "cells": [
  {
   "cell_type": "markdown",
   "metadata": {},
   "source": [
    "# Solving System of Linear Equations with NumPy\n",
    "NumPy package can be used to solve system of linear equations in Linear Algebra."
   ]
  },
  {
   "cell_type": "code",
   "execution_count": 1,
   "metadata": {},
   "outputs": [],
   "source": [
    "import numpy as np"
   ]
  },
  {
   "cell_type": "markdown",
   "metadata": {},
   "source": [
    "## np.linalg\n",
    "\n",
    "Lets solve this system of linear equation\n",
    "\n",
    "$$ -x_1 + 3x_2 = 7 \\\\\n",
    " 3x_1 + 2x_2 = 1 $$\n",
    "\n",
    " We will create a matrix A with coefficients of $x_1$ and $x_2$ and a 1D array of constants on RHS."
   ]
  },
  {
   "cell_type": "code",
   "execution_count": 6,
   "metadata": {},
   "outputs": [
    {
     "name": "stdout",
     "output_type": "stream",
     "text": [
      "The solution for system of linear equation described above is [-1.  2.]\n"
     ]
    }
   ],
   "source": [
    "A = np.array([[-1, 3], [3, 2]])\n",
    "b = np.array([7, 1])\n",
    "\n",
    "x = np.linalg.solve(A, b)\n",
    "\n",
    "print(f\"The solution for system of linear equation described above is {x}\")"
   ]
  },
  {
   "cell_type": "code",
   "execution_count": null,
   "metadata": {},
   "outputs": [],
   "source": []
  }
 ],
 "metadata": {
  "kernelspec": {
   "display_name": "dsai",
   "language": "python",
   "name": "python3"
  },
  "language_info": {
   "codemirror_mode": {
    "name": "ipython",
    "version": 3
   },
   "file_extension": ".py",
   "mimetype": "text/x-python",
   "name": "python",
   "nbconvert_exporter": "python",
   "pygments_lexer": "ipython3",
   "version": "3.13.1"
  }
 },
 "nbformat": 4,
 "nbformat_minor": 2
}
